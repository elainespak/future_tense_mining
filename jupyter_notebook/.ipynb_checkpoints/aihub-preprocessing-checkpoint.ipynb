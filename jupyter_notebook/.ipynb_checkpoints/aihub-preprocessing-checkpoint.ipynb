{
 "cells": [
  {
   "cell_type": "code",
   "execution_count": 28,
   "metadata": {},
   "outputs": [],
   "source": [
    "from contextlib import redirect_stderr\n",
    "from nltk import FreqDist\n",
    "import pandas as pd\n",
    "import numpy as np\n",
    "import MeCab\n",
    "import pickle\n",
    "import glob\n",
    "import io\n",
    "import re"
   ]
  },
  {
   "cell_type": "code",
   "execution_count": 20,
   "metadata": {},
   "outputs": [],
   "source": [
    "sentences = []\n",
    "for f in glob.glob('D:\\\\data\\\\text\\\\AIHub\\\\*'):\n",
    "    sentences += list(pd.read_excel(f)['원문'].values)"
   ]
  },
  {
   "cell_type": "code",
   "execution_count": 26,
   "metadata": {},
   "outputs": [],
   "source": [
    "def mecab_tokenize(sentence):\n",
    "    t = MeCab.Tagger()\n",
    "    return [tuple(re.split(',', re.sub('\\t', ',', s))[:2]) for s in t.parse(sentence).split('\\n') if (s!='') & ('EOS' not in s)]\n",
    "sentences_tokenized = [mecab_tokenize(sentence) for sentence in sentences]"
   ]
  },
  {
   "cell_type": "code",
   "execution_count": 34,
   "metadata": {
    "scrolled": true
   },
   "outputs": [],
   "source": [
    "with open('aihub_tokenized.pkl', 'wb') as f:\n",
    "    pickle.dump(sentences_tokenized, f)"
   ]
  }
 ],
 "metadata": {
  "kernelspec": {
   "display_name": "Python [conda env:nlp-embedding]",
   "language": "python",
   "name": "conda-env-nlp-embedding-py"
  },
  "language_info": {
   "codemirror_mode": {
    "name": "ipython",
    "version": 3
   },
   "file_extension": ".py",
   "mimetype": "text/x-python",
   "name": "python",
   "nbconvert_exporter": "python",
   "pygments_lexer": "ipython3",
   "version": "3.6.10"
  }
 },
 "nbformat": 4,
 "nbformat_minor": 2
}
