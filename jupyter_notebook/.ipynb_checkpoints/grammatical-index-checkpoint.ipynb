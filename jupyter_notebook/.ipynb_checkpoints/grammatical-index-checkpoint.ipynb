{
 "cells": [
  {
   "cell_type": "code",
   "execution_count": 9,
   "metadata": {},
   "outputs": [],
   "source": [
    "from sklearn.feature_extraction.text import TfidfVectorizer\n",
    "from contextlib import redirect_stderr\n",
    "from nltk import FreqDist\n",
    "from nltk import word_tokenize\n",
    "import pandas as pd\n",
    "import numpy as np\n",
    "import io\n",
    "import re\n",
    "df_us_10k = pd.read_csv('10k_2009_2019.csv', encoding='utf-8')\n",
    "df_kospi_10k_1115 = pd.read_csv('D:\\\\data\\\\finance\\\\financial_statements\\\\kr\\\\kospi200_2011_2015_translated.csv', encoding='utf-8')"
   ]
  },
  {
   "cell_type": "code",
   "execution_count": 49,
   "metadata": {},
   "outputs": [],
   "source": [
    "def will_occurences(string):\n",
    "    return len(re.findall('(?!A\\s*|The\\s*)(will)', string))"
   ]
  },
  {
   "cell_type": "markdown",
   "metadata": {},
   "source": [
    "# 10-k"
   ]
  },
  {
   "cell_type": "code",
   "execution_count": null,
   "metadata": {},
   "outputs": [],
   "source": [
    "#tf-idf with skelarn - \n",
    "vectorizer = TfidfVectorizer(vocabulary={'will':0, 'shall':1})\n",
    "X = vectorizer.fit_transform(df_i_want['text'])"
   ]
  },
  {
   "cell_type": "code",
   "execution_count": 60,
   "metadata": {},
   "outputs": [],
   "source": [
    "df_us_tf = pd.DataFrame(columns=('adsh', 'cik', 'filed'))\n",
    "df_us_tf[['adsh', 'cik', 'filed']] = df_us_10k[['adsh', 'cik', 'filed']].dropna()\n",
    "df_us_tf['will'] = df_us_10k['text'].dropna().apply(will_occurences)\n",
    "df_us_tf['shall'] = df_us_10k['text'].dropna().str.count('shall')\n",
    "df_us_tf['going_to'] = df_us_10k['text'].dropna().str.count('going to')"
   ]
  },
  {
   "cell_type": "code",
   "execution_count": 66,
   "metadata": {},
   "outputs": [
    {
     "data": {
      "text/plain": [
       "will        18.653786\n",
       "shall        0.150051\n",
       "going_to     0.004285\n",
       "dtype: float64"
      ]
     },
     "execution_count": 66,
     "metadata": {},
     "output_type": "execute_result"
    }
   ],
   "source": [
    "df_us_tf[['will', 'shall', 'going_to']].mean()"
   ]
  },
  {
   "cell_type": "markdown",
   "metadata": {},
   "source": [
    "# KOSPI"
   ]
  },
  {
   "cell_type": "code",
   "execution_count": 63,
   "metadata": {},
   "outputs": [],
   "source": [
    "df_kospi_10k_1115[df_kospi_10k_1115.Translated.isnull()]\n",
    "df_kr_tf = pd.DataFrame(columns=['file'])\n",
    "df_kr_tf[['file']] = df_kospi_10k_1115[['File']].dropna()\n",
    "df_kr_tf['will'] = df_kospi_10k_1115['Translated'].dropna().apply(will_occurences)\n",
    "df_kr_tf['shall'] = df_kospi_10k_1115['Translated'].dropna().str.count('shall')\n",
    "df_kr_tf['going_to'] = df_kospi_10k_1115['Translated'].dropna().str.count('going to')"
   ]
  },
  {
   "cell_type": "code",
   "execution_count": 67,
   "metadata": {},
   "outputs": [
    {
     "data": {
      "text/plain": [
       "will        7.084703\n",
       "shall       0.119014\n",
       "going_to    0.021444\n",
       "dtype: float64"
      ]
     },
     "execution_count": 67,
     "metadata": {},
     "output_type": "execute_result"
    }
   ],
   "source": [
    "df_kr_tf[['will', 'shall', 'going_to']].mean()"
   ]
  }
 ],
 "metadata": {
  "kernelspec": {
   "display_name": "Python [conda env:future-tense-mining]",
   "language": "python",
   "name": "conda-env-future-tense-mining-py"
  },
  "language_info": {
   "codemirror_mode": {
    "name": "ipython",
    "version": 3
   },
   "file_extension": ".py",
   "mimetype": "text/x-python",
   "name": "python",
   "nbconvert_exporter": "python",
   "pygments_lexer": "ipython3",
   "version": "3.8.1"
  }
 },
 "nbformat": 4,
 "nbformat_minor": 2
}
