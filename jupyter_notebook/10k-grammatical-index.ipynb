{
 "cells": [
  {
   "cell_type": "code",
   "execution_count": 13,
   "metadata": {},
   "outputs": [],
   "source": [
    "from sklearn.feature_extraction.text import TfidfVectorizer\n",
    "from nltk import FreqDist\n",
    "import pandas as pd\n",
    "import numpy as np"
   ]
  },
  {
   "cell_type": "code",
   "execution_count": 3,
   "metadata": {},
   "outputs": [],
   "source": [
    "base_dir = 'D:\\\\data\\\\finance'\n",
    "\n",
    "df_index = pd.read_csv(base_dir + '\\\\index_constituents.csv')\n",
    "df_index_sp = df_index[df_index.conm == 'S&P 500 Comp-Ltd']\n",
    "df_sub = pd.read_csv(base_dir + '\\\\financial_statements\\\\us\\\\2019q4_notes\\\\sub.tsv', delimiter='\\t')\n",
    "df_txt = pd.read_csv(base_dir + '\\\\financial_statements\\\\us\\\\2019q4_notes\\\\txt.tsv', delimiter='\\t')\n",
    "FORM_OF_INTEREST = ['10-Q', '10-K']"
   ]
  },
  {
   "cell_type": "code",
   "execution_count": 4,
   "metadata": {},
   "outputs": [
    {
     "name": "stdout",
     "output_type": "stream",
     "text": [
      "D:\\data\\finance\\financial_statements\\us\\2019q1_notes\\\n",
      "D:\\data\\finance\\financial_statements\\us\\2019q2_notes\\\n",
      "D:\\data\\finance\\financial_statements\\us\\2019q3_notes\\\n"
     ]
    },
    {
     "name": "stderr",
     "output_type": "stream",
     "text": [
      "C:\\Users\\sylim2357\\anaconda3\\envs\\future-tense-mining\\lib\\site-packages\\IPython\\core\\interactiveshell.py:3062: DtypeWarning: Columns (16) have mixed types.Specify dtype option on import or set low_memory=False.\n",
      "  has_raised = await self.run_ast_nodes(code_ast.body, cell_name,\n"
     ]
    },
    {
     "name": "stdout",
     "output_type": "stream",
     "text": [
      "D:\\data\\finance\\financial_statements\\us\\2019q4_notes\\\n",
      "D:\\data\\finance\\financial_statements\\us\\2018q1_notes\\\n",
      "D:\\data\\finance\\financial_statements\\us\\2018q2_notes\\\n",
      "D:\\data\\finance\\financial_statements\\us\\2018q3_notes\\\n",
      "D:\\data\\finance\\financial_statements\\us\\2018q4_notes\\\n",
      "D:\\data\\finance\\financial_statements\\us\\2017q1_notes\\\n",
      "D:\\data\\finance\\financial_statements\\us\\2017q2_notes\\\n",
      "D:\\data\\finance\\financial_statements\\us\\2017q3_notes\\\n",
      "D:\\data\\finance\\financial_statements\\us\\2017q4_notes\\\n",
      "D:\\data\\finance\\financial_statements\\us\\2016q1_notes\\\n"
     ]
    },
    {
     "name": "stderr",
     "output_type": "stream",
     "text": [
      "b'Skipping line 18720: expected 20 fields, saw 26\\n'\n",
      "b'Skipping line 94789: expected 20 fields, saw 21\\n'\n",
      "b'Skipping line 103588: expected 20 fields, saw 22\\nSkipping line 127746: expected 20 fields, saw 21\\n'\n",
      "b'Skipping line 149398: expected 20 fields, saw 27\\nSkipping line 160180: expected 20 fields, saw 23\\n'\n",
      "b'Skipping line 210780: expected 20 fields, saw 27\\nSkipping line 227988: expected 20 fields, saw 22\\nSkipping line 227990: expected 20 fields, saw 22\\n'\n",
      "b'Skipping line 319032: expected 20 fields, saw 27\\n'\n",
      "b'Skipping line 477242: expected 20 fields, saw 21\\n'\n",
      "b'Skipping line 532135: expected 20 fields, saw 23\\n'\n",
      "b'Skipping line 704811: expected 20 fields, saw 25\\n'\n"
     ]
    },
    {
     "name": "stdout",
     "output_type": "stream",
     "text": [
      "D:\\data\\finance\\financial_statements\\us\\2016q2_notes\\\n",
      "D:\\data\\finance\\financial_statements\\us\\2016q3_notes\\\n",
      "D:\\data\\finance\\financial_statements\\us\\2016q4_notes\\\n",
      "D:\\data\\finance\\financial_statements\\us\\2015q1_notes\\\n"
     ]
    },
    {
     "name": "stderr",
     "output_type": "stream",
     "text": [
      "b'Skipping line 75842: expected 20 fields, saw 21\\n'\n",
      "b'Skipping line 227965: expected 20 fields, saw 23\\n'\n",
      "b'Skipping line 348949: expected 20 fields, saw 23\\n'\n",
      "b'Skipping line 449493: expected 20 fields, saw 22\\n'\n",
      "b'Skipping line 507193: expected 20 fields, saw 21\\nSkipping line 507194: expected 20 fields, saw 21\\nSkipping line 520676: expected 20 fields, saw 21\\nSkipping line 520715: expected 20 fields, saw 21\\n'\n",
      "b'Skipping line 635107: expected 20 fields, saw 21\\n'\n",
      "b'Skipping line 660841: expected 20 fields, saw 21\\nSkipping line 684839: expected 20 fields, saw 23\\nSkipping line 684944: expected 20 fields, saw 23\\n'\n"
     ]
    },
    {
     "name": "stdout",
     "output_type": "stream",
     "text": [
      "D:\\data\\finance\\financial_statements\\us\\2015q2_notes\\\n"
     ]
    },
    {
     "name": "stderr",
     "output_type": "stream",
     "text": [
      "b'Skipping line 46667: expected 20 fields, saw 21\\n'\n",
      "b'Skipping line 329193: expected 20 fields, saw 21\\nSkipping line 329194: expected 20 fields, saw 21\\n'\n",
      "b'Skipping line 384320: expected 20 fields, saw 21\\nSkipping line 385023: expected 20 fields, saw 22\\n'\n",
      "b'Skipping line 434507: expected 20 fields, saw 23\\n'\n",
      "b'Skipping line 469581: expected 20 fields, saw 21\\n'\n"
     ]
    },
    {
     "name": "stdout",
     "output_type": "stream",
     "text": [
      "D:\\data\\finance\\financial_statements\\us\\2015q3_notes\\\n"
     ]
    },
    {
     "name": "stderr",
     "output_type": "stream",
     "text": [
      "b'Skipping line 64372: expected 20 fields, saw 21\\n'\n",
      "b'Skipping line 121199: expected 20 fields, saw 30\\n'\n",
      "b'Skipping line 215552: expected 20 fields, saw 21\\nSkipping line 215553: expected 20 fields, saw 21\\n'\n",
      "b'Skipping line 313980: expected 20 fields, saw 23\\nSkipping line 320635: expected 20 fields, saw 26\\nSkipping line 320761: expected 20 fields, saw 26\\n'\n"
     ]
    },
    {
     "name": "stdout",
     "output_type": "stream",
     "text": [
      "D:\\data\\finance\\financial_statements\\us\\2015q4_notes\\\n"
     ]
    },
    {
     "name": "stderr",
     "output_type": "stream",
     "text": [
      "b'Skipping line 18865: expected 20 fields, saw 21\\n'\n",
      "b'Skipping line 111808: expected 20 fields, saw 22\\nSkipping line 114997: expected 20 fields, saw 23\\n'\n",
      "b'Skipping line 142499: expected 20 fields, saw 22\\nSkipping line 159334: expected 20 fields, saw 26\\nSkipping line 162956: expected 20 fields, saw 26\\n'\n",
      "b'Skipping line 190594: expected 20 fields, saw 26\\n'\n",
      "b'Skipping line 303225: expected 20 fields, saw 21\\nSkipping line 314339: expected 20 fields, saw 21\\nSkipping line 314340: expected 20 fields, saw 21\\n'\n",
      "b'Skipping line 377020: expected 20 fields, saw 21\\nSkipping line 377180: expected 20 fields, saw 22\\n'\n",
      "b'Skipping line 468536: expected 20 fields, saw 23\\n'\n"
     ]
    },
    {
     "name": "stdout",
     "output_type": "stream",
     "text": [
      "D:\\data\\finance\\financial_statements\\us\\2014q1_notes\\\n"
     ]
    },
    {
     "name": "stderr",
     "output_type": "stream",
     "text": [
      "b'Skipping line 234686: expected 20 fields, saw 23\\n'\n",
      "b'Skipping line 366665: expected 20 fields, saw 22\\n'\n",
      "b'Skipping line 741581: expected 20 fields, saw 21\\nSkipping line 741582: expected 20 fields, saw 21\\nSkipping line 750152: expected 20 fields, saw 28\\n'\n"
     ]
    },
    {
     "name": "stdout",
     "output_type": "stream",
     "text": [
      "D:\\data\\finance\\financial_statements\\us\\2014q2_notes\\\n"
     ]
    },
    {
     "name": "stderr",
     "output_type": "stream",
     "text": [
      "b'Skipping line 15515: expected 20 fields, saw 21\\nSkipping line 15516: expected 20 fields, saw 21\\nSkipping line 15517: expected 20 fields, saw 21\\nSkipping line 15518: expected 20 fields, saw 21\\n'\n",
      "b'Skipping line 56078: expected 20 fields, saw 22\\n'\n",
      "b'Skipping line 285607: expected 20 fields, saw 21\\nSkipping line 285608: expected 20 fields, saw 21\\nSkipping line 285609: expected 20 fields, saw 21\\n'\n",
      "b'Skipping line 373378: expected 20 fields, saw 28\\n'\n",
      "b'Skipping line 455044: expected 20 fields, saw 23\\n'\n",
      "b'Skipping line 485377: expected 20 fields, saw 21\\n'\n",
      "b'Skipping line 491948: expected 20 fields, saw 23\\n'\n"
     ]
    },
    {
     "name": "stdout",
     "output_type": "stream",
     "text": [
      "D:\\data\\finance\\financial_statements\\us\\2014q3_notes\\\n"
     ]
    },
    {
     "name": "stderr",
     "output_type": "stream",
     "text": [
      "b'Skipping line 234692: expected 20 fields, saw 21\\n'\n",
      "b'Skipping line 264193: expected 20 fields, saw 21\\nSkipping line 264194: expected 20 fields, saw 21\\n'\n",
      "b'Skipping line 442595: expected 20 fields, saw 21\\nSkipping line 442596: expected 20 fields, saw 21\\nSkipping line 442602: expected 20 fields, saw 21\\nSkipping line 442603: expected 20 fields, saw 21\\nSkipping line 442799: expected 20 fields, saw 23\\nSkipping line 449182: expected 20 fields, saw 21\\n'\n"
     ]
    },
    {
     "name": "stdout",
     "output_type": "stream",
     "text": [
      "D:\\data\\finance\\financial_statements\\us\\2014q4_notes\\\n"
     ]
    },
    {
     "name": "stderr",
     "output_type": "stream",
     "text": [
      "b'Skipping line 11817: expected 20 fields, saw 21\\n'\n",
      "b'Skipping line 38919: expected 20 fields, saw 24\\n'\n",
      "b'Skipping line 255021: expected 20 fields, saw 21\\nSkipping line 255022: expected 20 fields, saw 21\\n'\n",
      "b'Skipping line 381143: expected 20 fields, saw 22\\n'\n",
      "b'Skipping line 450228: expected 20 fields, saw 23\\nSkipping line 454221: expected 20 fields, saw 21\\n'\n",
      "b'Skipping line 484913: expected 20 fields, saw 21\\n'\n"
     ]
    },
    {
     "name": "stdout",
     "output_type": "stream",
     "text": [
      "D:\\data\\finance\\financial_statements\\us\\2013q1_notes\\\n"
     ]
    },
    {
     "name": "stderr",
     "output_type": "stream",
     "text": [
      "b'Skipping line 9019: expected 20 fields, saw 21\\n'\n",
      "b'Skipping line 324553: expected 20 fields, saw 21\\n'\n",
      "b'Skipping line 411765: expected 20 fields, saw 23\\nSkipping line 415009: expected 20 fields, saw 22\\n'\n",
      "b'Skipping line 676050: expected 20 fields, saw 23\\nSkipping line 676051: expected 20 fields, saw 23\\n'\n"
     ]
    },
    {
     "name": "stdout",
     "output_type": "stream",
     "text": [
      "D:\\data\\finance\\financial_statements\\us\\2013q2_notes\\\n"
     ]
    },
    {
     "name": "stderr",
     "output_type": "stream",
     "text": [
      "b'Skipping line 5939: expected 20 fields, saw 21\\n'\n",
      "b'Skipping line 72378: expected 20 fields, saw 21\\n'\n",
      "b'Skipping line 115600: expected 20 fields, saw 50\\n'\n",
      "b'Skipping line 169906: expected 20 fields, saw 21\\nSkipping line 194515: expected 20 fields, saw 21\\n'\n",
      "b'Skipping line 229230: expected 20 fields, saw 21\\n'\n",
      "b'Skipping line 474361: expected 20 fields, saw 21\\n'\n",
      "b'Skipping line 558227: expected 20 fields, saw 21\\nSkipping line 558228: expected 20 fields, saw 21\\nSkipping line 558229: expected 20 fields, saw 21\\nSkipping line 558230: expected 20 fields, saw 21\\n'\n"
     ]
    },
    {
     "name": "stdout",
     "output_type": "stream",
     "text": [
      "D:\\data\\finance\\financial_statements\\us\\2013q3_notes\\\n"
     ]
    },
    {
     "name": "stderr",
     "output_type": "stream",
     "text": [
      "b'Skipping line 3580: expected 20 fields, saw 21\\nSkipping line 5977: expected 20 fields, saw 21\\n'\n",
      "b'Skipping line 84685: expected 20 fields, saw 21\\n'\n",
      "b'Skipping line 427496: expected 20 fields, saw 21\\nSkipping line 439698: expected 20 fields, saw 21\\nSkipping line 445472: expected 20 fields, saw 23\\n'\n",
      "b'Skipping line 493180: expected 20 fields, saw 21\\nSkipping line 493181: expected 20 fields, saw 21\\nSkipping line 493182: expected 20 fields, saw 21\\nSkipping line 493183: expected 20 fields, saw 21\\nSkipping line 507433: expected 20 fields, saw 24\\n'\n"
     ]
    },
    {
     "name": "stdout",
     "output_type": "stream",
     "text": [
      "D:\\data\\finance\\financial_statements\\us\\2013q4_notes\\\n"
     ]
    },
    {
     "name": "stderr",
     "output_type": "stream",
     "text": [
      "b'Skipping line 3138: expected 20 fields, saw 21\\n'\n",
      "b'Skipping line 38421: expected 20 fields, saw 21\\n'\n",
      "b'Skipping line 209045: expected 20 fields, saw 26\\n'\n",
      "b'Skipping line 448991: expected 20 fields, saw 23\\n'\n",
      "b'Skipping line 499818: expected 20 fields, saw 21\\nSkipping line 499819: expected 20 fields, saw 21\\nSkipping line 499820: expected 20 fields, saw 21\\nSkipping line 510454: expected 20 fields, saw 24\\n'\n"
     ]
    },
    {
     "name": "stdout",
     "output_type": "stream",
     "text": [
      "D:\\data\\finance\\financial_statements\\us\\2012q1_notes\\\n"
     ]
    },
    {
     "name": "stderr",
     "output_type": "stream",
     "text": [
      "b'Skipping line 153606: expected 20 fields, saw 21\\nSkipping line 153607: expected 20 fields, saw 21\\n'\n",
      "b'Skipping line 191392: expected 20 fields, saw 23\\n'\n",
      "b'Skipping line 356071: expected 20 fields, saw 21\\nSkipping line 356072: expected 20 fields, saw 21\\nSkipping line 356076: expected 20 fields, saw 21\\nSkipping line 356077: expected 20 fields, saw 21\\nSkipping line 356081: expected 20 fields, saw 21\\nSkipping line 356082: expected 20 fields, saw 21\\n'\n"
     ]
    },
    {
     "name": "stdout",
     "output_type": "stream",
     "text": [
      "D:\\data\\finance\\financial_statements\\us\\2012q2_notes\\\n"
     ]
    },
    {
     "name": "stderr",
     "output_type": "stream",
     "text": [
      "b'Skipping line 123016: expected 20 fields, saw 21\\n'\n"
     ]
    },
    {
     "name": "stdout",
     "output_type": "stream",
     "text": [
      "D:\\data\\finance\\financial_statements\\us\\2012q3_notes\\\n"
     ]
    },
    {
     "name": "stderr",
     "output_type": "stream",
     "text": [
      "b'Skipping line 4154: expected 20 fields, saw 21\\n'\n",
      "b'Skipping line 61435: expected 20 fields, saw 27\\nSkipping line 61436: expected 20 fields, saw 21\\nSkipping line 61437: expected 20 fields, saw 21\\n'\n",
      "b'Skipping line 223209: expected 20 fields, saw 24\\n'\n",
      "b'Skipping line 434945: expected 20 fields, saw 22\\nSkipping line 435141: expected 20 fields, saw 23\\n'\n"
     ]
    },
    {
     "name": "stdout",
     "output_type": "stream",
     "text": [
      "D:\\data\\finance\\financial_statements\\us\\2012q4_notes\\\n"
     ]
    },
    {
     "name": "stderr",
     "output_type": "stream",
     "text": [
      "b'Skipping line 84192: expected 20 fields, saw 27\\nSkipping line 84193: expected 20 fields, saw 21\\nSkipping line 84990: expected 20 fields, saw 27\\nSkipping line 84991: expected 20 fields, saw 21\\n'\n",
      "b'Skipping line 122501: expected 20 fields, saw 21\\n'\n",
      "b'Skipping line 232134: expected 20 fields, saw 21\\n'\n",
      "b'Skipping line 299721: expected 20 fields, saw 32\\n'\n",
      "b'Skipping line 410292: expected 20 fields, saw 22\\nSkipping line 421250: expected 20 fields, saw 23\\n'\n",
      "b'Skipping line 474763: expected 20 fields, saw 21\\n'\n",
      "b'Skipping line 499500: expected 20 fields, saw 22\\nSkipping line 499706: expected 20 fields, saw 23\\n'\n"
     ]
    },
    {
     "name": "stdout",
     "output_type": "stream",
     "text": [
      "D:\\data\\finance\\financial_statements\\us\\2011q1_notes\\\n",
      "D:\\data\\finance\\financial_statements\\us\\2011q2_notes\\\n",
      "D:\\data\\finance\\financial_statements\\us\\2011q3_notes\\\n"
     ]
    },
    {
     "name": "stderr",
     "output_type": "stream",
     "text": [
      "b'Skipping line 23442: expected 20 fields, saw 94\\n'\n",
      "b'Skipping line 96950: expected 20 fields, saw 32\\n'\n",
      "b'Skipping line 113961: expected 20 fields, saw 21\\n'\n"
     ]
    },
    {
     "name": "stdout",
     "output_type": "stream",
     "text": [
      "D:\\data\\finance\\financial_statements\\us\\2011q4_notes\\\n",
      "D:\\data\\finance\\financial_statements\\us\\2010q1_notes\\\n"
     ]
    },
    {
     "name": "stderr",
     "output_type": "stream",
     "text": [
      "b'Skipping line 307: expected 20 fields, saw 24\\nSkipping line 308: expected 20 fields, saw 35\\nSkipping line 309: expected 20 fields, saw 578\\nSkipping line 312: expected 20 fields, saw 26\\nSkipping line 315: expected 20 fields, saw 171\\nSkipping line 316: expected 20 fields, saw 47\\nSkipping line 319: expected 20 fields, saw 42\\nSkipping line 322: expected 20 fields, saw 68\\nSkipping line 323: expected 20 fields, saw 21\\nSkipping line 324: expected 20 fields, saw 98\\nSkipping line 325: expected 20 fields, saw 98\\nSkipping line 936: expected 20 fields, saw 43\\nSkipping line 944: expected 20 fields, saw 73\\nSkipping line 946: expected 20 fields, saw 96\\nSkipping line 947: expected 20 fields, saw 68\\nSkipping line 952: expected 20 fields, saw 205\\nSkipping line 953: expected 20 fields, saw 35\\nSkipping line 957: expected 20 fields, saw 71\\nSkipping line 958: expected 20 fields, saw 75\\nSkipping line 959: expected 20 fields, saw 42\\nSkipping line 960: expected 20 fields, saw 34\\nSkipping line 962: expected 20 fields, saw 106\\nSkipping line 963: expected 20 fields, saw 45\\n'\n"
     ]
    },
    {
     "name": "stdout",
     "output_type": "stream",
     "text": [
      "D:\\data\\finance\\financial_statements\\us\\2010q2_notes\\\n"
     ]
    },
    {
     "name": "stderr",
     "output_type": "stream",
     "text": [
      "b'Skipping line 3527: expected 20 fields, saw 36\\nSkipping line 3541: expected 20 fields, saw 21\\nSkipping line 4327: expected 20 fields, saw 35\\nSkipping line 4331: expected 20 fields, saw 40\\nSkipping line 4334: expected 20 fields, saw 38\\nSkipping line 4340: expected 20 fields, saw 40\\nSkipping line 4344: expected 20 fields, saw 23\\nSkipping line 4347: expected 20 fields, saw 96\\nSkipping line 4350: expected 20 fields, saw 31\\n'\n"
     ]
    },
    {
     "name": "stdout",
     "output_type": "stream",
     "text": [
      "D:\\data\\finance\\financial_statements\\us\\2010q3_notes\\\n"
     ]
    },
    {
     "name": "stderr",
     "output_type": "stream",
     "text": [
      "b'Skipping line 9040: expected 20 fields, saw 37\\nSkipping line 9041: expected 20 fields, saw 93\\nSkipping line 9043: expected 20 fields, saw 25\\nSkipping line 9044: expected 20 fields, saw 63\\nSkipping line 9053: expected 20 fields, saw 69\\nSkipping line 9055: expected 20 fields, saw 39\\nSkipping line 9058: expected 20 fields, saw 55\\nSkipping line 9061: expected 20 fields, saw 118\\n'\n"
     ]
    },
    {
     "name": "stdout",
     "output_type": "stream",
     "text": [
      "D:\\data\\finance\\financial_statements\\us\\2010q4_notes\\\n"
     ]
    },
    {
     "name": "stderr",
     "output_type": "stream",
     "text": [
      "b'Skipping line 25482: expected 20 fields, saw 35\\nSkipping line 25485: expected 20 fields, saw 56\\nSkipping line 25486: expected 20 fields, saw 29\\nSkipping line 25487: expected 20 fields, saw 52\\nSkipping line 25496: expected 20 fields, saw 34\\nSkipping line 25499: expected 20 fields, saw 87\\nSkipping line 25500: expected 20 fields, saw 62\\nSkipping line 25502: expected 20 fields, saw 141\\nSkipping line 25504: expected 20 fields, saw 165\\nSkipping line 25507: expected 20 fields, saw 68\\nSkipping line 25508: expected 20 fields, saw 75\\nSkipping line 25509: expected 20 fields, saw 49\\n'\n"
     ]
    }
   ],
   "source": [
    "df_i_want = pd.DataFrame(columns=['adsh', 'cik', 'gvkey', 'name', 'form', 'quarter', 'filed', 'text'])\n",
    "df_i_want = df_i_want.set_index('adsh')\n",
    "err = []\n",
    "for yr in range(10,0,-1):\n",
    "    for q in range(4):\n",
    "        file_dir = base_dir + '\\\\financial_statements\\\\us\\\\' + str(2009+yr) + 'q' + str(q+1) + '_notes\\\\'\n",
    "        \n",
    "        print(file_dir)\n",
    "        try:\n",
    "            df_sub = pd.read_csv(file_dir + 'sub.tsv', delimiter='\\t', encoding = \"ISO-8859-1\")\n",
    "            df_txt = pd.read_csv(file_dir + 'txt.tsv', delimiter='\\t', encoding = \"ISO-8859-1\")[['adsh', 'tag', 'value']]\n",
    "        except:\n",
    "            err += [str(2009+yr) + 'q' + str(q+1)]\n",
    "            df_sub = pd.read_csv(file_dir + 'sub.tsv', delimiter='\\t', encoding = \"ISO-8859-1\", error_bad_lines=False)\n",
    "            df_txt = pd.read_csv(file_dir + 'txt.tsv', delimiter='\\t', encoding = \"ISO-8859-1\", error_bad_lines=False)[['adsh', 'tag', 'value']]\n",
    "            \n",
    "        df_sub = pd.merge(df_sub[df_sub.form.isin(FORM_OF_INTEREST)][['adsh', 'cik', 'filed', 'form']], \\\n",
    "                          df_index_sp[['gvkey', 'co_cik', 'co_conm', 'from', 'thru']], left_on='cik', right_on='co_cik', how='inner').drop('co_cik', axis=1)\n",
    "        \n",
    "        df_txt = df_txt[['adsh', 'tag', 'value']]\n",
    "        df_txt = df_txt[(df_txt.tag.str.contains('TextBlock')) & (~df_txt.value.isnull())]\n",
    "        \n",
    "        df = pd.merge(df_txt, df_sub['adsh'], on='adsh')\n",
    "        df_sub = df_sub[['adsh', 'cik', 'gvkey', 'co_conm', 'form', 'filed']].set_index('adsh')\n",
    "        df_i_want = df_i_want.append(df_sub)\n",
    "        for adsh in df_sub.index:\n",
    "            try:\n",
    "                df_i_want.loc[adsh, 'text'] = '. '.join(df[(df.adsh == adsh)].value)\n",
    "            except:\n",
    "                print(adsh)"
   ]
  },
  {
   "cell_type": "code",
   "execution_count": 5,
   "metadata": {},
   "outputs": [],
   "source": [
    "df_i_want.to_csv('10k_2009_2019.csv', encoding='utf-8')"
   ]
  },
  {
   "cell_type": "code",
   "execution_count": 6,
   "metadata": {},
   "outputs": [],
   "source": [
    "#tf-idf with skelarn - \n",
    "vectorizer = TfidfVectorizer(vocabulary={'will':0, 'shall':1})\n",
    "X = vectorizer.fit_transform(df_i_want['text'])"
   ]
  },
  {
   "cell_type": "code",
   "execution_count": 43,
   "metadata": {},
   "outputs": [],
   "source": [
    "df_tf = pd.DataFrame(columns=('will','shall'))\n",
    "for idx, text in df_i_want['text'].str.split().iteritems():\n",
    "    df_tf.loc[idx, 'will'] = text.count('will')\n",
    "    df_tf.loc[idx, 'shall'] = text.count('shall')\n",
    "df_tf['will_tf_idf'] = df_tf.will * np.log(len(df_tf) / len(df_tf[df_tf.will != 0]))\n",
    "df_tf['shall_tf_idf'] = df_tf.shall * np.log(len(df_tf) / len(df_tf[df_tf.shall != 0]))"
   ]
  },
  {
   "cell_type": "code",
   "execution_count": null,
   "metadata": {},
   "outputs": [],
   "source": []
  }
 ],
 "metadata": {
  "kernelspec": {
   "display_name": "Python [conda env:future-tense-mining]",
   "language": "python",
   "name": "conda-env-future-tense-mining-py"
  },
  "language_info": {
   "codemirror_mode": {
    "name": "ipython",
    "version": 3
   },
   "file_extension": ".py",
   "mimetype": "text/x-python",
   "name": "python",
   "nbconvert_exporter": "python",
   "pygments_lexer": "ipython3",
   "version": "3.8.1"
  }
 },
 "nbformat": 4,
 "nbformat_minor": 2
}
