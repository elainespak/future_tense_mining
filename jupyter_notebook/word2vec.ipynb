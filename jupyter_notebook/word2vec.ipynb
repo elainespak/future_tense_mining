{
 "cells": [
  {
   "cell_type": "code",
   "execution_count": 109,
   "metadata": {},
   "outputs": [],
   "source": [
    "from gensim.models import Word2Vec\n",
    "from ast import literal_eval\n",
    "import pandas as pd\n",
    "import itertools\n",
    "import pickle\n",
    "import MeCab\n",
    "import re"
   ]
  },
  {
   "cell_type": "markdown",
   "metadata": {},
   "source": [
    "# Korean 10-k"
   ]
  },
  {
   "cell_type": "code",
   "execution_count": 69,
   "metadata": {},
   "outputs": [],
   "source": [
    "morphs_to_keep =['NNG', 'NNP', 'NNBC', 'NR', 'VV', 'VA', 'SL']"
   ]
  },
  {
   "cell_type": "code",
   "execution_count": 39,
   "metadata": {},
   "outputs": [],
   "source": [
    "df_2015 = pd.read_csv('C:\\\\Users\\\\sylim2357\\\\Documents\\\\git\\\\korean_financial_news_scrapers\\\\jupyter_notebook\\\\kospi200_2015_2019_parsed.csv', encoding='utf-8')\n",
    "df_2015['Relevant_Sentences'] = [literal_eval(s) for s in df_2015['Relevant_Sentences']]\n",
    "df_2011 = pd.read_csv('C:\\\\Users\\\\sylim2357\\\\Documents\\\\git\\\\korean_financial_news_scrapers\\\\jupyter_notebook\\\\kospi200_2011_2015_parsed.csv', encoding='utf-8')\n",
    "df_2011['Relevant_Sentences'] = [literal_eval(s) for s in df_2011['Relevant_Sentences']]\n",
    "df = df_2011.append(df_2015)\n",
    "df = df.reset_index()"
   ]
  },
  {
   "cell_type": "code",
   "execution_count": 73,
   "metadata": {},
   "outputs": [],
   "source": [
    "def mecab_tokenize(sentence, morphs_to_keep):\n",
    "    t = MeCab.Tagger()\n",
    "    return [tuple(re.split(',', re.sub('\\t', ',', s)))[0] for s in t.parse(sentence).split('\\n') if (s!='') & ('EOS' not in s) & (any(substring in s for substring in morphs_to_keep)\n",
    ")]\n",
    "\n",
    "df['w2v_corpus'] = None\n",
    "for idx, row in df.iterrows():\n",
    "    df.at[idx, 'w2v_corpus'] = [mecab_tokenize(sentence, morphs_to_keep) for sentence in row['Relevant_Sentences']]"
   ]
  },
  {
   "cell_type": "code",
   "execution_count": 96,
   "metadata": {},
   "outputs": [],
   "source": [
    "corpus = list(itertools.chain.from_iterable(df['w2v_corpus']))"
   ]
  },
  {
   "cell_type": "code",
   "execution_count": 100,
   "metadata": {},
   "outputs": [],
   "source": [
    "w2v_model = Word2Vec(corpus, size=100, window=5, min_count=1, workers=4)"
   ]
  },
  {
   "cell_type": "code",
   "execution_count": 101,
   "metadata": {
    "collapsed": true
   },
   "outputs": [
    {
     "name": "stderr",
     "output_type": "stream",
     "text": [
      "C:\\Users\\sylim2357\\anaconda3\\envs\\future-tense-mining\\lib\\site-packages\\ipykernel_launcher.py:1: DeprecationWarning: Call to deprecated `most_similar` (Method will be removed in 4.0.0, use self.wv.most_similar() instead).\n",
      "  \"\"\"Entry point for launching an IPython kernel.\n"
     ]
    },
    {
     "data": {
      "text/plain": [
       "[('전망', 0.7743479013442993),\n",
       " ('기대', 0.7218489646911621),\n",
       " ('보입니다', 0.6938493251800537),\n",
       " ('상되', 0.647679328918457),\n",
       " ('보여집니다', 0.6302053332328796),\n",
       " ('흥국', 0.5328930020332336),\n",
       " ('점진', 0.5217318534851074),\n",
       " ('보이', 0.5190744400024414),\n",
       " ('급속도', 0.5074462890625),\n",
       " ('보여', 0.506676435470581)]"
      ]
     },
     "execution_count": 101,
     "metadata": {},
     "output_type": "execute_result"
    }
   ],
   "source": [
    "w2v_model.most_similar('예상')"
   ]
  },
  {
   "cell_type": "code",
   "execution_count": 102,
   "metadata": {
    "collapsed": true
   },
   "outputs": [
    {
     "name": "stderr",
     "output_type": "stream",
     "text": [
      "C:\\Users\\sylim2357\\anaconda3\\envs\\future-tense-mining\\lib\\site-packages\\ipykernel_launcher.py:1: DeprecationWarning: Call to deprecated `most_similar` (Method will be removed in 4.0.0, use self.wv.most_similar() instead).\n",
      "  \"\"\"Entry point for launching an IPython kernel.\n"
     ]
    },
    {
     "data": {
      "text/plain": [
       "[('하', 0.5327817797660828),\n",
       " ('맡', 0.5041417479515076),\n",
       " ('가표', 0.4622926414012909),\n",
       " ('기할', 0.4615386128425598),\n",
       " ('보로서', 0.438471257686615),\n",
       " ('해내', 0.421520471572876),\n",
       " ('OBD', 0.401702880859375),\n",
       " ('다질', 0.40035802125930786),\n",
       " ('도달', 0.39226865768432617),\n",
       " ('융통', 0.37887415289878845)]"
      ]
     },
     "execution_count": 102,
     "metadata": {},
     "output_type": "execute_result"
    }
   ],
   "source": [
    "w2v_model.most_similar('할')"
   ]
  },
  {
   "cell_type": "code",
   "execution_count": 103,
   "metadata": {
    "collapsed": true
   },
   "outputs": [
    {
     "name": "stderr",
     "output_type": "stream",
     "text": [
      "C:\\Users\\sylim2357\\anaconda3\\envs\\future-tense-mining\\lib\\site-packages\\ipykernel_launcher.py:1: DeprecationWarning: Call to deprecated `most_similar` (Method will be removed in 4.0.0, use self.wv.most_similar() instead).\n",
      "  \"\"\"Entry point for launching an IPython kernel.\n"
     ]
    },
    {
     "data": {
      "text/plain": [
       "[('계획', 0.6003089547157288),\n",
       " ('중임', 0.4524746537208557),\n",
       " ('서관', 0.44184744358062744),\n",
       " ('추가', 0.4343995451927185),\n",
       " ('완료', 0.4327957332134247),\n",
       " ('후', 0.4279869496822357),\n",
       " ('본격', 0.42749524116516113),\n",
       " ('EPCM', 0.4203566312789917),\n",
       " ('조기', 0.41347968578338623),\n",
       " ('value', 0.41292276978492737)]"
      ]
     },
     "execution_count": 103,
     "metadata": {},
     "output_type": "execute_result"
    }
   ],
   "source": [
    "w2v_model.most_similar('예정')"
   ]
  },
  {
   "cell_type": "code",
   "execution_count": 107,
   "metadata": {
    "collapsed": true
   },
   "outputs": [
    {
     "name": "stderr",
     "output_type": "stream",
     "text": [
      "C:\\Users\\sylim2357\\anaconda3\\envs\\future-tense-mining\\lib\\site-packages\\ipykernel_launcher.py:1: DeprecationWarning: Call to deprecated `most_similar` (Method will be removed in 4.0.0, use self.wv.most_similar() instead).\n",
      "  \"\"\"Entry point for launching an IPython kernel.\n"
     ]
    },
    {
     "data": {
      "text/plain": [
       "[('점진', 0.5667904019355774),\n",
       " ('최근', 0.5637996196746826),\n",
       " ('성장', 0.504819393157959),\n",
       " ('지속', 0.47213542461395264),\n",
       " ('민란', 0.46434926986694336),\n",
       " ('봐도', 0.46375423669815063),\n",
       " ('시장', 0.4494169056415558),\n",
       " ('고성장', 0.4410852789878845),\n",
       " ('로', 0.43820831179618835),\n",
       " ('전망', 0.4380779564380646)]"
      ]
     },
     "execution_count": 107,
     "metadata": {},
     "output_type": "execute_result"
    }
   ],
   "source": [
    "w2v_model.most_similar('향후')"
   ]
  },
  {
   "cell_type": "code",
   "execution_count": 108,
   "metadata": {
    "collapsed": true
   },
   "outputs": [
    {
     "name": "stderr",
     "output_type": "stream",
     "text": [
      "C:\\Users\\sylim2357\\anaconda3\\envs\\future-tense-mining\\lib\\site-packages\\ipykernel_launcher.py:1: DeprecationWarning: Call to deprecated `most_similar` (Method will be removed in 4.0.0, use self.wv.most_similar() instead).\n",
      "  \"\"\"Entry point for launching an IPython kernel.\n"
     ]
    },
    {
     "data": {
      "text/plain": [
       "[('예상', 0.7218489050865173),\n",
       " ('전망', 0.6744959354400635),\n",
       " ('보입니다', 0.5847667455673218),\n",
       " ('보여집니다', 0.5782133340835571),\n",
       " ('견인', 0.51365727186203),\n",
       " ('점진', 0.5090121030807495),\n",
       " ('외형', 0.5074797868728638),\n",
       " ('대폭', 0.5000908970832825),\n",
       " ('보여', 0.49400579929351807),\n",
       " ('그쳤', 0.48503172397613525)]"
      ]
     },
     "execution_count": 108,
     "metadata": {},
     "output_type": "execute_result"
    }
   ],
   "source": [
    "w2v_model.most_similar('기대')"
   ]
  },
  {
   "cell_type": "markdown",
   "metadata": {},
   "source": [
    "# AIHUB"
   ]
  },
  {
   "cell_type": "code",
   "execution_count": 124,
   "metadata": {},
   "outputs": [],
   "source": [
    "with open('D:\\\\data\\\\text\\\\AIHub\\\\aihub_tokenized.pkl', 'rb') as f:\n",
    "    a = pickle.load(f)"
   ]
  },
  {
   "cell_type": "code",
   "execution_count": 117,
   "metadata": {},
   "outputs": [],
   "source": [
    "aihub_corpus = []\n",
    "for sentence in a:\n",
    "    aihub_corpus += [[word[0] for word in sentence if word[1] in morphs_to_keep]]"
   ]
  },
  {
   "cell_type": "code",
   "execution_count": 120,
   "metadata": {},
   "outputs": [],
   "source": [
    "w2v_model_aihub = Word2Vec(aihub_corpus, size=100, window=5, min_count=1, workers=4)"
   ]
  },
  {
   "cell_type": "code",
   "execution_count": 121,
   "metadata": {
    "collapsed": true
   },
   "outputs": [
    {
     "name": "stderr",
     "output_type": "stream",
     "text": [
      "C:\\Users\\sylim2357\\anaconda3\\envs\\future-tense-mining\\lib\\site-packages\\ipykernel_launcher.py:1: DeprecationWarning: Call to deprecated `most_similar` (Method will be removed in 4.0.0, use self.wv.most_similar() instead).\n",
      "  \"\"\"Entry point for launching an IPython kernel.\n"
     ]
    },
    {
     "data": {
      "text/plain": [
       "[('전망', 0.8558336496353149),\n",
       " ('예측', 0.6863952875137329),\n",
       " ('내다보', 0.6690541505813599),\n",
       " ('관측', 0.6194316148757935),\n",
       " ('예년', 0.5847278833389282),\n",
       " ('최소', 0.5529088973999023),\n",
       " ('당장', 0.5491597652435303),\n",
       " ('기대', 0.5437719821929932),\n",
       " ('빠르', 0.5378214120864868),\n",
       " ('향후', 0.535881519317627)]"
      ]
     },
     "execution_count": 121,
     "metadata": {},
     "output_type": "execute_result"
    }
   ],
   "source": [
    "w2v_model_aihub.most_similar('예상')"
   ]
  },
  {
   "cell_type": "code",
   "execution_count": 122,
   "metadata": {
    "collapsed": true
   },
   "outputs": [
    {
     "name": "stderr",
     "output_type": "stream",
     "text": [
      "C:\\Users\\sylim2357\\anaconda3\\envs\\future-tense-mining\\lib\\site-packages\\ipykernel_launcher.py:1: DeprecationWarning: Call to deprecated `most_similar` (Method will be removed in 4.0.0, use self.wv.most_similar() instead).\n",
      "  \"\"\"Entry point for launching an IPython kernel.\n"
     ]
    },
    {
     "data": {
      "text/plain": [
       "[('순차', 0.6893970966339111),\n",
       " ('계획', 0.6597926616668701),\n",
       " ('완료', 0.6458877921104431),\n",
       " ('방침', 0.564749002456665),\n",
       " ('정식', 0.5447733998298645),\n",
       " ('마무리', 0.5409709215164185),\n",
       " ('진행', 0.5268769860267639),\n",
       " ('날짜', 0.5177264213562012),\n",
       " ('추가', 0.5158536434173584),\n",
       " ('본격', 0.5139623284339905)]"
      ]
     },
     "execution_count": 122,
     "metadata": {},
     "output_type": "execute_result"
    }
   ],
   "source": [
    "w2v_model_aihub.most_similar('예정')"
   ]
  },
  {
   "cell_type": "code",
   "execution_count": 123,
   "metadata": {
    "collapsed": true
   },
   "outputs": [
    {
     "name": "stderr",
     "output_type": "stream",
     "text": [
      "C:\\Users\\sylim2357\\anaconda3\\envs\\future-tense-mining\\lib\\site-packages\\ipykernel_launcher.py:1: DeprecationWarning: Call to deprecated `most_similar` (Method will be removed in 4.0.0, use self.wv.most_similar() instead).\n",
      "  \"\"\"Entry point for launching an IPython kernel.\n"
     ]
    },
    {
     "data": {
      "text/plain": [
       "[('장기', 0.647159218788147),\n",
       " ('지속', 0.5882102251052856),\n",
       " ('전망', 0.5777440667152405),\n",
       " ('예상', 0.535881519317627),\n",
       " ('확대', 0.5164848566055298),\n",
       " ('실질', 0.5093995332717896),\n",
       " ('현재', 0.5044463872909546),\n",
       " ('방침', 0.5027302503585815),\n",
       " ('최근', 0.4990479648113251),\n",
       " ('구체', 0.49387091398239136)]"
      ]
     },
     "execution_count": 123,
     "metadata": {},
     "output_type": "execute_result"
    }
   ],
   "source": [
    "w2v_model_aihub.most_similar('향후')"
   ]
  }
 ],
 "metadata": {
  "kernelspec": {
   "display_name": "Python [conda env:future-tense-mining]",
   "language": "python",
   "name": "conda-env-future-tense-mining-py"
  },
  "language_info": {
   "codemirror_mode": {
    "name": "ipython",
    "version": 3
   },
   "file_extension": ".py",
   "mimetype": "text/x-python",
   "name": "python",
   "nbconvert_exporter": "python",
   "pygments_lexer": "ipython3",
   "version": "3.6.10"
  }
 },
 "nbformat": 4,
 "nbformat_minor": 2
}
