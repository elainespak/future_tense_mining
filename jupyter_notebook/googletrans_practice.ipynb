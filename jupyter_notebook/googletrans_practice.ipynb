{
 "cells": [
  {
   "cell_type": "code",
   "execution_count": 27,
   "metadata": {},
   "outputs": [],
   "source": [
    "from google.cloud import translate_v2 as translate\n",
    "from googletrans import Translator\n",
    "import pandas as pd\n",
    "import numpy as np\n",
    "import time\n",
    "import re\n",
    "import pickle"
   ]
  },
  {
   "cell_type": "code",
   "execution_count": 2,
   "metadata": {},
   "outputs": [],
   "source": [
    "df_kospi_filing_2011_2015 = pd.read_excel('C:\\\\Users\\\\sylim2357\\\\Documents\\\\SNU\\\\projects\\\\10-KPlanet\\\\kospi200_2011_2015.xlsx')"
   ]
  },
  {
   "cell_type": "code",
   "execution_count": 21,
   "metadata": {},
   "outputs": [],
   "source": [
    "missing_list = [7,12,13,14,19,20,27,56,99,100,101,102,103,104,105,106,108,109,111,112,114,115,117,119,120,121,122,127,131,136,137,139,141,173,198,199,203,206,208,211,212,218,220,222,223,224,225,226,227,228,229,230,231,232,233,234,235,236,237,369,370,372,373,374,375]"
   ]
  },
  {
   "cell_type": "code",
   "execution_count": 26,
   "metadata": {
    "collapsed": true
   },
   "outputs": [
    {
     "data": {
      "text/plain": [
       "[False,\n",
       " False,\n",
       " False,\n",
       " False,\n",
       " False,\n",
       " False,\n",
       " False,\n",
       " False,\n",
       " False,\n",
       " False,\n",
       " False,\n",
       " False,\n",
       " False,\n",
       " False,\n",
       " False,\n",
       " False,\n",
       " False,\n",
       " False,\n",
       " False,\n",
       " False,\n",
       " False,\n",
       " False,\n",
       " False,\n",
       " False,\n",
       " False,\n",
       " False,\n",
       " False,\n",
       " False,\n",
       " False,\n",
       " False,\n",
       " False,\n",
       " False,\n",
       " False,\n",
       " True,\n",
       " False,\n",
       " False,\n",
       " False,\n",
       " False,\n",
       " False,\n",
       " False,\n",
       " False,\n",
       " False,\n",
       " False,\n",
       " False,\n",
       " False,\n",
       " False,\n",
       " False,\n",
       " False,\n",
       " False,\n",
       " False,\n",
       " False,\n",
       " False,\n",
       " False,\n",
       " False,\n",
       " False,\n",
       " False,\n",
       " False,\n",
       " False,\n",
       " False,\n",
       " False,\n",
       " False,\n",
       " False,\n",
       " False,\n",
       " False,\n",
       " False]"
      ]
     },
     "execution_count": 26,
     "metadata": {},
     "output_type": "execute_result"
    }
   ],
   "source": [
    "(df_kospi_filing_2011_2015['Text'].replace(\"\\s\\s+|\\\\n\", \" \", regex=True).iloc[missing_list].str.len()<20000).tolist()"
   ]
  },
  {
   "cell_type": "code",
   "execution_count": null,
   "metadata": {
    "scrolled": true
   },
   "outputs": [
    {
     "name": "stdout",
     "output_type": "stream",
     "text": [
      "0 being translated\n",
      "0 has error\n",
      "1 being translated\n",
      "1 has error\n",
      "2 being translated\n",
      "2 has error\n"
     ]
    }
   ],
   "source": [
    "def make_sublist(text):\n",
    "    batch = []\n",
    "    batch_size = 5\n",
    "    text_list = [text for text in text.split('. ') if (len(text)>3)]\n",
    "    len_text = len(text_list)\n",
    "    num_batches = int(np.ceil(len_text/batch_size))\n",
    "    for i in range(num_batches):\n",
    "        if i == num_batches-1:\n",
    "            batch.append('. '.join(text_list[batch_size*i:]))\n",
    "        else:\n",
    "            batch.append('. '.join(text_list[batch_size*i:batch_size*(i+1)-1]))\n",
    "    return batch\n",
    "\n",
    "text_series = df_kospi_filing_2011_2015['Text'].replace(\"\\s\\s+|\\\\n\", \" \", regex=True)\n",
    "text_series_sublists = text_series.apply(make_sublist)\n",
    "trans_error = []\n",
    "translated_series = []\n",
    "for idx, text in enumerate(text_series_sublists):\n",
    "    try:\n",
    "        time.sleep(3)\n",
    "        print(str(idx)+' being translated')\n",
    "        translated = Translator().translate(text)\n",
    "        print(str(idx)+' has been translated')\n",
    "        translated_series.append('. '.join([trans.text for trans in translated]))\n",
    "        print(str(idx)+' has been recorded')\n",
    "    except:\n",
    "        print(str(idx)+' has error')\n",
    "        trans_error.append(idx)\n",
    "        translated_series.append(np.nan)\n",
    "#         pass\n",
    "    if idx % 100 == 0:\n",
    "            with open('translated.pickle', 'wb') as f:\n",
    "                pickle.dump(translated_series, f)\n",
    "            with open('trans_error.pickle', 'wb') as f:\n",
    "                pickle.dump(trans_error, f)\n",
    "#     time.sleep(3)"
   ]
  },
  {
   "cell_type": "code",
   "execution_count": 7,
   "metadata": {
    "scrolled": true
   },
   "outputs": [
    {
     "ename": "NameError",
     "evalue": "name 'join' is not defined",
     "output_type": "error",
     "traceback": [
      "\u001b[1;31m---------------------------------------------------------------------------\u001b[0m",
      "\u001b[1;31mNameError\u001b[0m                                 Traceback (most recent call last)",
      "\u001b[1;32m<ipython-input-7-9e327015ac06>\u001b[0m in \u001b[0;36m<module>\u001b[1;34m\u001b[0m\n\u001b[0;32m      1\u001b[0m \u001b[0mtranslated\u001b[0m \u001b[1;33m=\u001b[0m \u001b[0mTranslator\u001b[0m\u001b[1;33m(\u001b[0m\u001b[1;33m)\u001b[0m\u001b[1;33m.\u001b[0m\u001b[0mtranslate\u001b[0m\u001b[1;33m(\u001b[0m\u001b[0mtext_series_sublists\u001b[0m\u001b[1;33m[\u001b[0m\u001b[1;36m0\u001b[0m\u001b[1;33m]\u001b[0m\u001b[1;33m)\u001b[0m\u001b[1;33m\u001b[0m\u001b[1;33m\u001b[0m\u001b[0m\n\u001b[1;32m----> 2\u001b[1;33m \u001b[1;34m'. '\u001b[0m\u001b[1;33m,\u001b[0m\u001b[0mjoin\u001b[0m\u001b[1;33m(\u001b[0m\u001b[1;33m[\u001b[0m\u001b[0mtrans\u001b[0m\u001b[1;33m.\u001b[0m\u001b[0mtext\u001b[0m \u001b[1;32mfor\u001b[0m \u001b[0mtrans\u001b[0m \u001b[1;32min\u001b[0m \u001b[0mtranslated\u001b[0m\u001b[1;33m]\u001b[0m\u001b[1;33m)\u001b[0m\u001b[1;33m\u001b[0m\u001b[1;33m\u001b[0m\u001b[0m\n\u001b[0m",
      "\u001b[1;31mNameError\u001b[0m: name 'join' is not defined"
     ]
    }
   ],
   "source": [
    "translated = Translator().translate(text_series_sublists[0])\n",
    "'. ',join([trans.text for trans in translated])"
   ]
  },
  {
   "cell_type": "code",
   "execution_count": 13,
   "metadata": {},
   "outputs": [
    {
     "data": {
      "text/plain": [
       "'면방직 업계의 매출은 섬유산업의 기초 원자재를 공급하는 형태로 내수의 경우 국내 경기부진에 따라 소비가 감소하고 수출은 선진국 경기회복이 지연됨에 따라 수출오더가 감소하여 재고증가와 수익성 악화로 전반적으로 영업환경이 어려운 상황입니다. 또한 면사의 주원료인 원면은 100%로 수입에 의존하기 때문에 환율 이나 경기변동 및 작황에 따라 가격이 민감하게 움직이고 제조원가에서 큰 비중을 차지하므로 원가절감에도 한계가 있어 채산성을 확보하는 데 다소 어려움이 있습 니다'"
      ]
     },
     "execution_count": 13,
     "metadata": {},
     "output_type": "execute_result"
    }
   ],
   "source": []
  }
 ],
 "metadata": {
  "kernelspec": {
   "display_name": "Python [conda env:future-tense-mining]",
   "language": "python",
   "name": "conda-env-future-tense-mining-py"
  },
  "language_info": {
   "codemirror_mode": {
    "name": "ipython",
    "version": 3
   },
   "file_extension": ".py",
   "mimetype": "text/x-python",
   "name": "python",
   "nbconvert_exporter": "python",
   "pygments_lexer": "ipython3",
   "version": "3.8.1"
  }
 },
 "nbformat": 4,
 "nbformat_minor": 2
}
